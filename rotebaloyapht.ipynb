{
 "cells": [
  {
   "cell_type": "markdown",
   "metadata": {},
   "source": [
    "СТАТИСТИКА ПО ИСПОЛНИТЕЛЮ"
   ]
  },
  {
   "cell_type": "code",
   "execution_count": 122,
   "metadata": {},
   "outputs": [],
   "source": [
    "import requests, json, urllib.parse\n",
    "from statistics import mean, median\n",
    "\n",
    "def convert_millis(millis: int) -> str:\n",
    "    total_seconds = millis // 1000\n",
    "    seconds = total_seconds % 60\n",
    "    minutes = (total_seconds // 60) % 60\n",
    "    hours = (total_seconds // (60 * 60))\n",
    "    return f\"{hours}H{minutes}M{seconds}S\""
   ]
  },
  {
   "cell_type": "code",
   "execution_count": 123,
   "metadata": {},
   "outputs": [],
   "source": [
    "base_url = 'https://itunes.apple.com/search'\n",
    "\n",
    "artist = 'SALUKI'\n",
    "\n",
    "params = {\n",
    "    'term':  artist,\n",
    "    'limit': 15,\n",
    "    'media': 'music',\n",
    "    'entity': 'song',\n",
    "    'attribute': 'artistTerm'\n",
    "}\n",
    "\n",
    "response = requests.get(f\"{base_url}?{urllib.parse.urlencode(params)}\")\n",
    "\n",
    "data = json.loads(response.text)\n",
    "data = data['results']"
   ]
  },
  {
   "cell_type": "code",
   "execution_count": 124,
   "metadata": {},
   "outputs": [],
   "source": [
    "import dateutil.parser\n",
    "data = map(lambda x: {**x, 'releaseDate': dateutil.parser.isoparse(x['releaseDate'])}, data)\n",
    "data = list(data)\n"
   ]
  },
  {
   "cell_type": "code",
   "execution_count": 125,
   "metadata": {},
   "outputs": [],
   "source": [
    "data = map(lambda x: {\n",
    "    'artistId': x['artistId'],\n",
    "    'collectionId': x['collectionId'],\n",
    "    'trackId': x['trackId'],\n",
    "    'artistName': x['artistName'],\n",
    "    'collectionName': x['collectionCensoredName'],\n",
    "    'trackName': x['trackCensoredName'],\n",
    "    'collectionPrice': x['collectionPrice'],\n",
    "    'trackPrice': x['trackPrice'],\n",
    "    'releaseDate': x['releaseDate'],\n",
    "    'collectionExplicitness': x['collectionExplicitness'],\n",
    "    'trackExplicitness': x['trackExplicitness'],\n",
    "    'discCount': x['discCount'],\n",
    "    'discNumber': x['discNumber'],\n",
    "    'trackCount': x['trackCount'],\n",
    "    'trackNumber': x['trackNumber'],\n",
    "    'trackTimeMillis': x['trackTimeMillis'],\n",
    "    'country': x['country'],\n",
    "    'currency': x['currency'],\n",
    "    'primaryGenreName': x['primaryGenreName'],\n",
    "    'isStreamable': x['isStreamable']\n",
    "}, data)\n",
    "data = list(data)\n"
   ]
  },
  {
   "cell_type": "markdown",
   "metadata": {},
   "source": [
    "Название исполнителя"
   ]
  },
  {
   "cell_type": "code",
   "execution_count": 126,
   "metadata": {},
   "outputs": [
    {
     "name": "stdout",
     "output_type": "stream",
     "text": [
      "{'SALUKI', 'SALUKI & 104', 'Saluki= & Chu Kosaka', 'ANIKV & SALUKI'}\n"
     ]
    }
   ],
   "source": [
    "print(set(map(lambda x: x['artistName'], data)))"
   ]
  },
  {
   "cell_type": "code",
   "execution_count": 127,
   "metadata": {},
   "outputs": [],
   "source": [
    "data = filter(lambda x: artist.lower() in x['artistName'].lower(), data)\n",
    "data = list(data)"
   ]
  },
  {
   "cell_type": "markdown",
   "metadata": {},
   "source": [
    "Количество песен"
   ]
  },
  {
   "cell_type": "code",
   "execution_count": 128,
   "metadata": {},
   "outputs": [
    {
     "name": "stdout",
     "output_type": "stream",
     "text": [
      "Count of songs: 15\n"
     ]
    }
   ],
   "source": [
    "chislo = lambda x: x['trackName']\n",
    "chislo_songs = len(list(map(chislo, data)))\n",
    "print('Count of songs:', chislo_songs)"
   ]
  },
  {
   "cell_type": "markdown",
   "metadata": {},
   "source": [
    "Популярный жанр"
   ]
  },
  {
   "cell_type": "code",
   "execution_count": 129,
   "metadata": {},
   "outputs": [
    {
     "name": "stdout",
     "output_type": "stream",
     "text": [
      "{'J-Pop', 'Indie Pop', 'Hip-Hop/Rap'}\n"
     ]
    }
   ],
   "source": [
    "primaryGenreName = set(list(map(lambda x: x['primaryGenreName'], data)))\n",
    "print(primaryGenreName)"
   ]
  },
  {
   "cell_type": "markdown",
   "metadata": {},
   "source": [
    "Количество альбомов"
   ]
  },
  {
   "cell_type": "code",
   "execution_count": 130,
   "metadata": {},
   "outputs": [
    {
     "name": "stdout",
     "output_type": "stream",
     "text": [
      "['Властелин Калек', 'УЛИЦЫ, ДОМА', 'Было или нет? - Single', 'Company in Christ', 'СТЫД ИЛИ СЛАВА']\n",
      "count of albums: 5\n"
     ]
    }
   ],
   "source": [
    "from itertools import groupby\n",
    "\n",
    "collection_id_extractor = lambda x: x['collectionId']\n",
    "\n",
    "sorted_by_album = sorted(data, key=collection_id_extractor)\n",
    "album_groups = {}\n",
    "album_names = {}\n",
    "\n",
    "for album_id, songs in groupby(sorted_by_album, key=collection_id_extractor):\n",
    "    songs = list(songs)\n",
    "    album_groups[album_id] = songs \n",
    "    album_names[album_id] = songs[0]['collectionName']\n",
    "\n",
    "del sorted_by_album\n",
    "\n",
    "print(list(album_names.values()))\n",
    "print('count of albums:',len(set(list(map(lambda x: x['collectionId'], data)))))"
   ]
  },
  {
   "cell_type": "markdown",
   "metadata": {},
   "source": [
    "Общая длительность песен"
   ]
  },
  {
   "cell_type": "code",
   "execution_count": 131,
   "metadata": {},
   "outputs": [
    {
     "name": "stdout",
     "output_type": "stream",
     "text": [
      "Duration of songs: 0H42M46S\n"
     ]
    }
   ],
   "source": [
    "time_extractor = lambda x: x['trackTimeMillis']\n",
    "\n",
    "Duration_of_songs = sum(list(map(time_extractor, data)))\n",
    "print('Duration of songs:', convert_millis(Duration_of_songs))\n"
   ]
  },
  {
   "cell_type": "markdown",
   "metadata": {},
   "source": [
    "Средняя длительность песни"
   ]
  },
  {
   "cell_type": "code",
   "execution_count": 132,
   "metadata": {},
   "outputs": [
    {
     "name": "stdout",
     "output_type": "stream",
     "text": [
      "Average time: 0H2M51S\n"
     ]
    }
   ],
   "source": [
    "AverageTime = int(mean(list(map(lambda x: x['trackTimeMillis'], data))))\n",
    "print('Average time:',convert_millis( AverageTime))"
   ]
  },
  {
   "cell_type": "markdown",
   "metadata": {},
   "source": [
    "Медиана длительности песен"
   ]
  },
  {
   "cell_type": "code",
   "execution_count": 133,
   "metadata": {},
   "outputs": [
    {
     "name": "stdout",
     "output_type": "stream",
     "text": [
      "Mediana of songs: 0H2M45S\n"
     ]
    }
   ],
   "source": [
    "Median_time = list(map(time_extractor, data))\n",
    "print('Mediana of songs:', convert_millis(median(Median_time)))"
   ]
  },
  {
   "cell_type": "markdown",
   "metadata": {},
   "source": [
    "название самой долгой песни(\n",
    "длительность самой долгой песни)\n"
   ]
  },
  {
   "cell_type": "markdown",
   "metadata": {},
   "source": [
    "название самой короткой песни(\n",
    "длительность самой короткой песни)"
   ]
  },
  {
   "cell_type": "code",
   "execution_count": 134,
   "metadata": {},
   "outputs": [
    {
     "name": "stdout",
     "output_type": "stream",
     "text": [
      "Longe song: KELIN (feat. OG Buda & MAYOT & Кисло-Сладкий & Bonah) 0H4M21S\n",
      "Short song: OUTRO 0H1M41S\n"
     ]
    }
   ],
   "source": [
    "time_extractor = lambda x: x['trackTimeMillis']\n",
    "long_song = max(data, key=time_extractor)\n",
    "short_song = min(data, key=time_extractor)\n",
    "print('Longe song:', long_song['trackName'], convert_millis(long_song['trackTimeMillis']))\n",
    "\n",
    "shortest_song = min(data, key=time_extractor)\n",
    "\n",
    "print('Short song:', short_song['trackName'], convert_millis(short_song['trackTimeMillis']))"
   ]
  },
  {
   "cell_type": "markdown",
   "metadata": {},
   "source": [
    "Общая стоимость песен"
   ]
  },
  {
   "cell_type": "code",
   "execution_count": 135,
   "metadata": {},
   "outputs": [
    {
     "name": "stdout",
     "output_type": "stream",
     "text": [
      "all track price: 19.349999999999994 $\n"
     ]
    }
   ],
   "source": [
    "track_price = lambda x: x['trackPrice']\n",
    "all_track_price= sum(list(map(track_price,data)))\n",
    "\n",
    "print('all track price:', all_track_price,'$')\n"
   ]
  },
  {
   "cell_type": "markdown",
   "metadata": {},
   "source": [
    "Средняя стоимость песен"
   ]
  },
  {
   "cell_type": "code",
   "execution_count": 136,
   "metadata": {},
   "outputs": [
    {
     "name": "stdout",
     "output_type": "stream",
     "text": [
      "Average price of songs 1.29 $\n"
     ]
    }
   ],
   "source": [
    "track_price = lambda x: x['trackPrice']\n",
    "all_track_price= mean(list(map(track_price,data)))\n",
    "print('Average price of songs',all_track_price,'$')"
   ]
  },
  {
   "cell_type": "markdown",
   "metadata": {},
   "source": [
    "Медиана стоимости песен"
   ]
  },
  {
   "cell_type": "code",
   "execution_count": 137,
   "metadata": {},
   "outputs": [
    {
     "name": "stdout",
     "output_type": "stream",
     "text": [
      "Median of track price 1.29 $\n"
     ]
    }
   ],
   "source": [
    "track_price = lambda x: x['trackPrice']\n",
    "all_track_price= median(list(map(track_price,data)))\n",
    "print('Median of track price',all_track_price,'$')"
   ]
  },
  {
   "cell_type": "markdown",
   "metadata": {},
   "source": [
    "название самой дорогой песни\n",
    "(стоимость самой дорогой песни)\n"
   ]
  },
  {
   "cell_type": "markdown",
   "metadata": {},
   "source": [
    "название самой дешевой песни\n",
    "(стоимость самой дешевой песни)"
   ]
  },
  {
   "cell_type": "code",
   "execution_count": 138,
   "metadata": {},
   "outputs": [
    {
     "name": "stdout",
     "output_type": "stream",
     "text": [
      "min track price: ДОСКИ (feat. OSA) 1.29 $\n",
      "max track price: ДОСКИ (feat. OSA) 1.29 $\n"
     ]
    }
   ],
   "source": [
    "track_price = lambda x: x['trackPrice']\n",
    "first=min(data, key=track_price)\n",
    "print('min track price:', first['trackName'], first['trackPrice'],'$')\n",
    "second=max(data, key=track_price)\n",
    "print('max track price:', second['trackName'], second['trackPrice'],'$')\n",
    "\n"
   ]
  },
  {
   "cell_type": "markdown",
   "metadata": {},
   "source": [
    "СТАТИСТИКА ПО АЛЬБОМУ"
   ]
  },
  {
   "cell_type": "code",
   "execution_count": 139,
   "metadata": {},
   "outputs": [
    {
     "name": "stdout",
     "output_type": "stream",
     "text": [
      "<function <lambda> at 0x000001E86E183C70>\n"
     ]
    },
    {
     "ename": "TypeError",
     "evalue": "'int' object is not iterable",
     "output_type": "error",
     "traceback": [
      "\u001b[1;31m---------------------------------------------------------------------------\u001b[0m",
      "\u001b[1;31mTypeError\u001b[0m                                 Traceback (most recent call last)",
      "Cell \u001b[1;32mIn [139], line 8\u001b[0m\n\u001b[0;32m      4\u001b[0m \u001b[39mfor\u001b[39;00m i \u001b[39min\u001b[39;00m \u001b[39mrange\u001b[39m(album):\n\u001b[0;32m      6\u001b[0m     \u001b[39mprint\u001b[39m(album_name)\n\u001b[1;32m----> 8\u001b[0m     primaryGenreName \u001b[39m=\u001b[39m \u001b[39mlen\u001b[39m(\u001b[39mset\u001b[39m(\u001b[39mlist\u001b[39m(\u001b[39mmap\u001b[39m(\u001b[39mlambda\u001b[39;00m x: x[\u001b[39m'\u001b[39m\u001b[39mprimaryGenreName\u001b[39m\u001b[39m'\u001b[39m], album))))\n\u001b[0;32m      9\u001b[0m     \u001b[39mprint\u001b[39m(\u001b[39m'\u001b[39m\u001b[39mPrimary genere:\u001b[39m\u001b[39m'\u001b[39m,primaryGenreName)\n\u001b[0;32m     10\u001b[0m     release_date_extractor \u001b[39m=\u001b[39m \u001b[39mlambda\u001b[39;00m x: x[\u001b[39m'\u001b[39m\u001b[39mreleaseDate\u001b[39m\u001b[39m'\u001b[39m]\n",
      "\u001b[1;31mTypeError\u001b[0m: 'int' object is not iterable"
     ]
    }
   ],
   "source": [
    "album = len(set(list(map(lambda x: x['collectionId'],data))))\n",
    "album_name = lambda x: x['collectionName']\n",
    "\n",
    "for i in range(album):\n",
    "\n",
    "    print(album_name)\n",
    "\n",
    "    primaryGenreName = len(set(list(map(lambda x: x['primaryGenreName'], album))))\n",
    "    print('Primary genere:',primaryGenreName)\n",
    "    release_date_extractor = lambda x: x['releaseDate']\n",
    "\n",
    "\n",
    "    date = max(album, key=release_date_extractor)\n",
    "    print('Release date:', date['trackName'], date['releaseDate'])\n",
    "    timeCount = sum(list(map(lambda x: x['trackTimeMillis'], album)))\n",
    "    print( 'time count:',convert_millis( timeCount))\n",
    "\n",
    "    AverageTime = int(mean(list(map(lambda x: x['trackTimeMillis'], album))))\n",
    "    print('Average time:',convert_millis(AverageTime))\n",
    "    Median_time = list(map(time_extractor, album))\n",
    "    print('Median songs:', convert_millis(median(Median_time)))\n",
    "    time_extractor = lambda x: x['trackTimeMillis']\n",
    "    long_song = max(album, key=time_extractor)\n",
    "    short_song = min(album, key=time_extractor)\n",
    "    print('Longe song:', long_song['trackName'], convert_millis(long_song['trackTimeMillis']))\n",
    "\n",
    "    short_song = min(data, key=time_extractor)\n",
    "    print('Short song:', short_song['trackName'], convert_millis(short_song['trackTimeMillis']))\n",
    "    allTrackPrice = sum(list(map(lambda x: x['trackPrice'], album)))\n",
    "    print('All track price of album:',allTrackPrice,'$')\n",
    "    averageTrackPrice = mean(list(map(lambda x: x['trackPrice'], album)))\n",
    "    print('Average track price of album:',averageTrackPrice,'$')\n",
    "    medianTrackPrice = median(list(map(lambda x: x['trackPrice'], album)))\n",
    "    print('Median track price of album:',medianTrackPrice,'$')\n",
    "\n",
    "    track_price = lambda x: x['trackPrice']\n",
    "    first=min(album, key=track_price)\n",
    "    print('min track price:', first['trackName'], first['trackPrice'],'$')\n",
    "    second=max(album, key=track_price)\n",
    "    print('max track price:', second['trackName'], second['trackPrice'],'$')"
   ]
  }
 ],
 "metadata": {
  "kernelspec": {
   "display_name": "Python 3.10.7 64-bit",
   "language": "python",
   "name": "python3"
  },
  "language_info": {
   "codemirror_mode": {
    "name": "ipython",
    "version": 3
   },
   "file_extension": ".py",
   "mimetype": "text/x-python",
   "name": "python",
   "nbconvert_exporter": "python",
   "pygments_lexer": "ipython3",
   "version": "3.10.7"
  },
  "orig_nbformat": 4,
  "vscode": {
   "interpreter": {
    "hash": "c66fc46ce8a26af5cd60ff452eb045edcc95d8028d459f164b2c8e19bd82fcbf"
   }
  }
 },
 "nbformat": 4,
 "nbformat_minor": 2
}
