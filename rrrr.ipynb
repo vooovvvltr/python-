{
 "cells": [
  {
   "cell_type": "markdown",
   "metadata": {},
   "source": [
    "СТАТИСТИКА ПО ИСПОЛНИТЕЛЮ"
   ]
  },
  {
   "cell_type": "code",
   "execution_count": 1429,
   "metadata": {},
   "outputs": [],
   "source": [
    "\n",
    "# библиотеки и функции\n",
    "import requests, json, urllib.parse\n",
    "from statistics import mean, median\n",
    "# конвертер времени\n",
    "def convert_millis(millis: int) -> str:\n",
    "    total_seconds = millis // 1000\n",
    "    seconds = total_seconds % 60\n",
    "    minutes = (total_seconds // 60) % 60\n",
    "    hours = (total_seconds // (60 * 60))\n",
    "    return f\"{hours}:{minutes}:{seconds}\"\n",
    "\n"
   ]
  },
  {
   "cell_type": "code",
   "execution_count": 1430,
   "metadata": {},
   "outputs": [],
   "source": [
    "base_url = 'https://itunes.apple.com/search'\n",
    "\n",
    "artist = 'Metallica'\n",
    "\n",
    "params = {\n",
    "    'term':  artist,\n",
    "    'limit': 250,\n",
    "    'media': 'music',\n",
    "    'entity': 'song',\n",
    "    'attribute': 'artistTerm'\n",
    "}\n",
    "\n",
    "response = requests.get(f\"{base_url}?{urllib.parse.urlencode(params)}\")\n",
    "\n",
    "data = json.loads(response.text)\n",
    "data = data['results']"
   ]
  },
  {
   "cell_type": "code",
   "execution_count": 1431,
   "metadata": {},
   "outputs": [],
   "source": [
    "import dateutil.parser\n",
    "data = map(lambda x: {**x, 'releaseDate': dateutil.parser.isoparse(x['releaseDate'])}, data)\n",
    "data = list(data)\n"
   ]
  },
  {
   "cell_type": "code",
   "execution_count": 1432,
   "metadata": {},
   "outputs": [
    {
     "name": "stdout",
     "output_type": "stream",
     "text": [
      "{'artistId': 3996865, 'collectionId': 1572046434, 'trackId': 1572046436, 'artistName': 'Metallica', 'collectionName': 'Metallica (Remastered)', 'trackName': 'Enter Sandman', 'collectionPrice': 9.99, 'trackPrice': 1.29, 'releaseDate': datetime.datetime(1991, 7, 29, 12, 0, tzinfo=tzutc()), 'collectionExplicitness': 'notExplicit', 'trackExplicitness': 'notExplicit', 'discCount': 1, 'discNumber': 1, 'trackCount': 11, 'trackNumber': 1, 'trackTimeMillis': 331560, 'country': 'USA', 'currency': 'USD', 'primaryGenreName': 'Metal', 'isStreamable': True}\n"
     ]
    }
   ],
   "source": [
    "data = map(lambda x: {\n",
    "    'artistId': x['artistId'],\n",
    "    'collectionId': x['collectionId'],\n",
    "    'trackId': x['trackId'],\n",
    "    'artistName': x['artistName'],\n",
    "    'collectionName': x['collectionCensoredName'],\n",
    "    'trackName': x['trackCensoredName'],\n",
    "    'collectionPrice': x['collectionPrice'],\n",
    "    'trackPrice': x['trackPrice'],\n",
    "    'releaseDate': x['releaseDate'],\n",
    "    'collectionExplicitness': x['collectionExplicitness'],\n",
    "    'trackExplicitness': x['trackExplicitness'],\n",
    "    'discCount': x['discCount'],\n",
    "    'discNumber': x['discNumber'],\n",
    "    'trackCount': x['trackCount'],\n",
    "    'trackNumber': x['trackNumber'],\n",
    "    'trackTimeMillis': x['trackTimeMillis'],\n",
    "    'country': x['country'],\n",
    "    'currency': x['currency'],\n",
    "    'primaryGenreName': x['primaryGenreName'],\n",
    "    'isStreamable': x['isStreamable']\n",
    "}, data)\n",
    "data = list(data)\n",
    "print(data[0])\n"
   ]
  },
  {
   "cell_type": "markdown",
   "metadata": {},
   "source": [
    "Название исполнителя"
   ]
  },
  {
   "cell_type": "code",
   "execution_count": 1433,
   "metadata": {},
   "outputs": [
    {
     "name": "stdout",
     "output_type": "stream",
     "text": [
      "{'Metallica', 'Metallica & San Francisco Symphony'}\n"
     ]
    }
   ],
   "source": [
    "print(set(map(lambda x: x['artistName'], data)))"
   ]
  },
  {
   "cell_type": "code",
   "execution_count": 1434,
   "metadata": {},
   "outputs": [],
   "source": [
    "data = filter(lambda x: artist.lower() in x['artistName'].lower(), data)\n",
    "data = list(data)"
   ]
  },
  {
   "cell_type": "markdown",
   "metadata": {},
   "source": [
    "Количество песен"
   ]
  },
  {
   "cell_type": "code",
   "execution_count": 1435,
   "metadata": {},
   "outputs": [
    {
     "name": "stdout",
     "output_type": "stream",
     "text": [
      "Count of songs: 100\n"
     ]
    }
   ],
   "source": [
    "chislo = lambda x: x['trackName']\n",
    "chislo_songs = len(list(map(chislo, data)))\n",
    "print('Count of songs:', chislo_songs)"
   ]
  },
  {
   "cell_type": "markdown",
   "metadata": {},
   "source": [
    "Популярный жанр"
   ]
  },
  {
   "cell_type": "code",
   "execution_count": 1436,
   "metadata": {},
   "outputs": [
    {
     "name": "stdout",
     "output_type": "stream",
     "text": [
      "Metal\n"
     ]
    }
   ],
   "source": [
    "primaryGenreName = max(list(map(lambda x: x['primaryGenreName'], data)))\n",
    "print(primaryGenreName)"
   ]
  },
  {
   "cell_type": "markdown",
   "metadata": {},
   "source": [
    "Количество альбомов"
   ]
  },
  {
   "cell_type": "code",
   "execution_count": 1437,
   "metadata": {},
   "outputs": [
    {
     "name": "stdout",
     "output_type": "stream",
     "text": [
      "['Beyond Magnetic - EP', 'I Disappear - Single', \"Kill 'Em All (Remastered)\", 'Ride the Lightning (Remastered)', 'Death Magnetic', 'Garage Inc.', 'Load', 'Metallica', 'Reload', 'S&M (Live)', 'Hardwired…To Self-Destruct (Deluxe Edition)', 'Master of Puppets (Remastered)', '...And Justice for All (Remastered)', 'S&M2 (Live)', 'Metallica (Remastered)']\n",
      "count of albums: 15\n"
     ]
    }
   ],
   "source": [
    "from itertools import groupby\n",
    "\n",
    "collection_id_extractor = lambda x: x['collectionId']\n",
    "\n",
    "sorted_by_album = sorted(data, key=collection_id_extractor)\n",
    "album_groups = {}\n",
    "album_names = {}\n",
    "\n",
    "for album_id, songs in groupby(sorted_by_album, key=collection_id_extractor):\n",
    "    songs = list(songs)\n",
    "    album_groups[album_id] = songs \n",
    "    album_names[album_id] = songs[0]['collectionName']\n",
    "\n",
    "del sorted_by_album\n",
    "\n",
    "print(list(album_names.values()))\n",
    "print('count of albums:',len(set(list(map(lambda x: x['collectionId'], data)))))"
   ]
  },
  {
   "cell_type": "markdown",
   "metadata": {},
   "source": [
    "Общая длительность песен"
   ]
  },
  {
   "cell_type": "code",
   "execution_count": 1438,
   "metadata": {},
   "outputs": [
    {
     "name": "stdout",
     "output_type": "stream",
     "text": [
      "Duration of songs: 10:18:55\n"
     ]
    }
   ],
   "source": [
    "time_extractor = lambda x: x['trackTimeMillis']\n",
    "\n",
    "Duration_of_songs = sum(list(map(time_extractor, data)))\n",
    "print('Duration of songs:', convert_millis(Duration_of_songs))\n"
   ]
  },
  {
   "cell_type": "markdown",
   "metadata": {},
   "source": [
    "Средняя длительность песни"
   ]
  },
  {
   "cell_type": "code",
   "execution_count": 1439,
   "metadata": {},
   "outputs": [
    {
     "name": "stdout",
     "output_type": "stream",
     "text": [
      "Average time: 0:6:11\n"
     ]
    }
   ],
   "source": [
    "AverageTime = int(mean(list(map(lambda x: x['trackTimeMillis'], data))))\n",
    "print('Average time:',convert_millis( AverageTime))"
   ]
  },
  {
   "cell_type": "markdown",
   "metadata": {},
   "source": [
    "Медиана длительности песен"
   ]
  },
  {
   "cell_type": "code",
   "execution_count": 1440,
   "metadata": {},
   "outputs": [
    {
     "name": "stdout",
     "output_type": "stream",
     "text": [
      "Mediana of songs: 0.0:6.0:27.0\n"
     ]
    }
   ],
   "source": [
    "Median_time = list(map(time_extractor, data))\n",
    "print('Mediana of songs:', convert_millis(median(Median_time)))"
   ]
  },
  {
   "cell_type": "markdown",
   "metadata": {},
   "source": [
    "название самой долгой песни(\n",
    "длительность самой долгой песни)\n"
   ]
  },
  {
   "cell_type": "markdown",
   "metadata": {},
   "source": [
    "название самой короткой песни(\n",
    "длительность самой короткой песни)"
   ]
  },
  {
   "cell_type": "code",
   "execution_count": 1441,
   "metadata": {},
   "outputs": [
    {
     "name": "stdout",
     "output_type": "stream",
     "text": [
      "Longe song: Suicide & Redemption 0:9:57\n",
      "Short song: Helpless (Live at Rasputin Music, Berkeley, CA - Apr. 16th, 2016) 0:3:8\n"
     ]
    }
   ],
   "source": [
    "time_extractor = lambda x: x['trackTimeMillis']\n",
    "long_song = max(data, key=time_extractor)\n",
    "short_song = min(data, key=time_extractor)\n",
    "print('Longe song:', long_song['trackName'], convert_millis(long_song['trackTimeMillis']))\n",
    "\n",
    "shortest_song = min(data, key=time_extractor)\n",
    "\n",
    "print('Short song:', short_song['trackName'], convert_millis(short_song['trackTimeMillis']))"
   ]
  },
  {
   "cell_type": "markdown",
   "metadata": {},
   "source": [
    "Общая стоимость песен"
   ]
  },
  {
   "cell_type": "code",
   "execution_count": 1442,
   "metadata": {},
   "outputs": [
    {
     "name": "stdout",
     "output_type": "stream",
     "text": [
      "all track price: 129.00000000000028 $\n"
     ]
    }
   ],
   "source": [
    "track_price = lambda x: x['trackPrice']\n",
    "all_track_price= sum(list(map(track_price,data)))\n",
    "\n",
    "print('all track price:', all_track_price,'$')\n"
   ]
  },
  {
   "cell_type": "markdown",
   "metadata": {},
   "source": [
    "Средняя стоимость песен"
   ]
  },
  {
   "cell_type": "code",
   "execution_count": 1443,
   "metadata": {},
   "outputs": [
    {
     "name": "stdout",
     "output_type": "stream",
     "text": [
      "Average price of songs 1.29 $\n"
     ]
    }
   ],
   "source": [
    "track_price = lambda x: x['trackPrice']\n",
    "all_track_price= mean(list(map(track_price,data)))\n",
    "print('Average price of songs',all_track_price,'$')"
   ]
  },
  {
   "cell_type": "markdown",
   "metadata": {},
   "source": [
    "Медиана стоимости песен"
   ]
  },
  {
   "cell_type": "code",
   "execution_count": 1444,
   "metadata": {},
   "outputs": [
    {
     "name": "stdout",
     "output_type": "stream",
     "text": [
      "Median of track price 1.29 $\n"
     ]
    }
   ],
   "source": [
    "track_price = lambda x: x['trackPrice']\n",
    "all_track_price= median(list(map(track_price,data)))\n",
    "print('Median of track price',all_track_price,'$')"
   ]
  },
  {
   "cell_type": "markdown",
   "metadata": {},
   "source": [
    "название самой дорогой песни\n",
    "(стоимость самой дорогой песни)\n"
   ]
  },
  {
   "cell_type": "markdown",
   "metadata": {},
   "source": [
    "название самой дешевой песни\n",
    "(стоимость самой дешевой песни)"
   ]
  },
  {
   "cell_type": "code",
   "execution_count": 1445,
   "metadata": {},
   "outputs": [
    {
     "name": "stdout",
     "output_type": "stream",
     "text": [
      "min track price: Enter Sandman 1.29 $\n",
      "max track price: Enter Sandman 1.29 $\n"
     ]
    }
   ],
   "source": [
    "track_price = lambda x: x['trackPrice']\n",
    "first=min(data, key=track_price)\n",
    "print('min track price:', first['trackName'], first['trackPrice'],'$')\n",
    "second=max(data, key=track_price)\n",
    "print('max track price:', second['trackName'], second['trackPrice'],'$')\n",
    "\n"
   ]
  },
  {
   "cell_type": "markdown",
   "metadata": {},
   "source": [
    "СТАТИСТИКА ПО АЛЬБОМУ"
   ]
  },
  {
   "cell_type": "code",
   "execution_count": 1446,
   "metadata": {},
   "outputs": [
    {
     "name": "stdout",
     "output_type": "stream",
     "text": [
      "========================\n",
      "Ну что,народ, погнали?\n",
      "========================\n",
      "Albom # [1] :\n",
      "\n",
      "Album name: S&M2 (Live)\n",
      "Count of songs: 100\n",
      "Primary genere: Metal\n",
      "Release date: The Day That Never Comes (Live) 2020-08-28 12:00:00+00:00\n",
      "Average time: 0:6:11\n",
      "Median songs: 0.0:6.0:27.0\n",
      "All track price of album: 129.00000000000028 $\n",
      "Average track price of album: 1.29 $\n",
      "Median track price of album: 1.29 $\n",
      "min track price: Enter Sandman 1.29 $\n",
      "max track price: Enter Sandman 1.29 $\n",
      "Longe song: Suicide & Redemption 0:9:57\n",
      "Short song: Helpless (Live at Rasputin Music, Berkeley, CA - Apr. 16th, 2016) 0:3:8\n",
      "\n",
      "Albom # [2] :\n",
      "\n",
      "Album name: S&M2 (Live)\n",
      "Count of songs: 100\n",
      "Primary genere: Metal\n",
      "Release date: The Day That Never Comes (Live) 2020-08-28 12:00:00+00:00\n",
      "Average time: 0:6:11\n",
      "Median songs: 0.0:6.0:27.0\n",
      "All track price of album: 129.00000000000028 $\n",
      "Average track price of album: 1.29 $\n",
      "Median track price of album: 1.29 $\n",
      "min track price: Enter Sandman 1.29 $\n",
      "max track price: Enter Sandman 1.29 $\n",
      "Longe song: Suicide & Redemption 0:9:57\n",
      "Short song: Helpless (Live at Rasputin Music, Berkeley, CA - Apr. 16th, 2016) 0:3:8\n",
      "\n",
      "Albom # [3] :\n",
      "\n",
      "Album name: S&M2 (Live)\n",
      "Count of songs: 100\n",
      "Primary genere: Metal\n",
      "Release date: The Day That Never Comes (Live) 2020-08-28 12:00:00+00:00\n",
      "Average time: 0:6:11\n",
      "Median songs: 0.0:6.0:27.0\n",
      "All track price of album: 129.00000000000028 $\n",
      "Average track price of album: 1.29 $\n",
      "Median track price of album: 1.29 $\n",
      "min track price: Enter Sandman 1.29 $\n",
      "max track price: Enter Sandman 1.29 $\n",
      "Longe song: Suicide & Redemption 0:9:57\n",
      "Short song: Helpless (Live at Rasputin Music, Berkeley, CA - Apr. 16th, 2016) 0:3:8\n",
      "\n",
      "Albom # [4] :\n",
      "\n",
      "Album name: S&M2 (Live)\n",
      "Count of songs: 100\n",
      "Primary genere: Metal\n",
      "Release date: The Day That Never Comes (Live) 2020-08-28 12:00:00+00:00\n",
      "Average time: 0:6:11\n",
      "Median songs: 0.0:6.0:27.0\n",
      "All track price of album: 129.00000000000028 $\n",
      "Average track price of album: 1.29 $\n",
      "Median track price of album: 1.29 $\n",
      "min track price: Enter Sandman 1.29 $\n",
      "max track price: Enter Sandman 1.29 $\n",
      "Longe song: Suicide & Redemption 0:9:57\n",
      "Short song: Helpless (Live at Rasputin Music, Berkeley, CA - Apr. 16th, 2016) 0:3:8\n",
      "\n",
      "Albom # [5] :\n",
      "\n",
      "Album name: S&M2 (Live)\n",
      "Count of songs: 100\n",
      "Primary genere: Metal\n",
      "Release date: The Day That Never Comes (Live) 2020-08-28 12:00:00+00:00\n",
      "Average time: 0:6:11\n",
      "Median songs: 0.0:6.0:27.0\n",
      "All track price of album: 129.00000000000028 $\n",
      "Average track price of album: 1.29 $\n",
      "Median track price of album: 1.29 $\n",
      "min track price: Enter Sandman 1.29 $\n",
      "max track price: Enter Sandman 1.29 $\n",
      "Longe song: Suicide & Redemption 0:9:57\n",
      "Short song: Helpless (Live at Rasputin Music, Berkeley, CA - Apr. 16th, 2016) 0:3:8\n",
      "\n",
      "Albom # [6] :\n",
      "\n",
      "Album name: S&M2 (Live)\n",
      "Count of songs: 100\n",
      "Primary genere: Metal\n",
      "Release date: The Day That Never Comes (Live) 2020-08-28 12:00:00+00:00\n",
      "Average time: 0:6:11\n",
      "Median songs: 0.0:6.0:27.0\n",
      "All track price of album: 129.00000000000028 $\n",
      "Average track price of album: 1.29 $\n",
      "Median track price of album: 1.29 $\n",
      "min track price: Enter Sandman 1.29 $\n",
      "max track price: Enter Sandman 1.29 $\n",
      "Longe song: Suicide & Redemption 0:9:57\n",
      "Short song: Helpless (Live at Rasputin Music, Berkeley, CA - Apr. 16th, 2016) 0:3:8\n",
      "\n",
      "Albom # [7] :\n",
      "\n",
      "Album name: S&M2 (Live)\n",
      "Count of songs: 100\n",
      "Primary genere: Metal\n",
      "Release date: The Day That Never Comes (Live) 2020-08-28 12:00:00+00:00\n",
      "Average time: 0:6:11\n",
      "Median songs: 0.0:6.0:27.0\n",
      "All track price of album: 129.00000000000028 $\n",
      "Average track price of album: 1.29 $\n",
      "Median track price of album: 1.29 $\n",
      "min track price: Enter Sandman 1.29 $\n",
      "max track price: Enter Sandman 1.29 $\n",
      "Longe song: Suicide & Redemption 0:9:57\n",
      "Short song: Helpless (Live at Rasputin Music, Berkeley, CA - Apr. 16th, 2016) 0:3:8\n",
      "\n",
      "Albom # [8] :\n",
      "\n",
      "Album name: S&M2 (Live)\n",
      "Count of songs: 100\n",
      "Primary genere: Metal\n",
      "Release date: The Day That Never Comes (Live) 2020-08-28 12:00:00+00:00\n",
      "Average time: 0:6:11\n",
      "Median songs: 0.0:6.0:27.0\n",
      "All track price of album: 129.00000000000028 $\n",
      "Average track price of album: 1.29 $\n",
      "Median track price of album: 1.29 $\n",
      "min track price: Enter Sandman 1.29 $\n",
      "max track price: Enter Sandman 1.29 $\n",
      "Longe song: Suicide & Redemption 0:9:57\n",
      "Short song: Helpless (Live at Rasputin Music, Berkeley, CA - Apr. 16th, 2016) 0:3:8\n",
      "\n",
      "Albom # [9] :\n",
      "\n",
      "Album name: S&M2 (Live)\n",
      "Count of songs: 100\n",
      "Primary genere: Metal\n",
      "Release date: The Day That Never Comes (Live) 2020-08-28 12:00:00+00:00\n",
      "Average time: 0:6:11\n",
      "Median songs: 0.0:6.0:27.0\n",
      "All track price of album: 129.00000000000028 $\n",
      "Average track price of album: 1.29 $\n",
      "Median track price of album: 1.29 $\n",
      "min track price: Enter Sandman 1.29 $\n",
      "max track price: Enter Sandman 1.29 $\n",
      "Longe song: Suicide & Redemption 0:9:57\n",
      "Short song: Helpless (Live at Rasputin Music, Berkeley, CA - Apr. 16th, 2016) 0:3:8\n",
      "\n",
      "Albom # [10] :\n",
      "\n",
      "Album name: S&M2 (Live)\n",
      "Count of songs: 100\n",
      "Primary genere: Metal\n",
      "Release date: The Day That Never Comes (Live) 2020-08-28 12:00:00+00:00\n",
      "Average time: 0:6:11\n",
      "Median songs: 0.0:6.0:27.0\n",
      "All track price of album: 129.00000000000028 $\n",
      "Average track price of album: 1.29 $\n",
      "Median track price of album: 1.29 $\n",
      "min track price: Enter Sandman 1.29 $\n",
      "max track price: Enter Sandman 1.29 $\n",
      "Longe song: Suicide & Redemption 0:9:57\n",
      "Short song: Helpless (Live at Rasputin Music, Berkeley, CA - Apr. 16th, 2016) 0:3:8\n",
      "\n",
      "Albom # [11] :\n",
      "\n",
      "Album name: S&M2 (Live)\n",
      "Count of songs: 100\n",
      "Primary genere: Metal\n",
      "Release date: The Day That Never Comes (Live) 2020-08-28 12:00:00+00:00\n",
      "Average time: 0:6:11\n",
      "Median songs: 0.0:6.0:27.0\n",
      "All track price of album: 129.00000000000028 $\n",
      "Average track price of album: 1.29 $\n",
      "Median track price of album: 1.29 $\n",
      "min track price: Enter Sandman 1.29 $\n",
      "max track price: Enter Sandman 1.29 $\n",
      "Longe song: Suicide & Redemption 0:9:57\n",
      "Short song: Helpless (Live at Rasputin Music, Berkeley, CA - Apr. 16th, 2016) 0:3:8\n",
      "\n",
      "Albom # [12] :\n",
      "\n",
      "Album name: S&M2 (Live)\n",
      "Count of songs: 100\n",
      "Primary genere: Metal\n",
      "Release date: The Day That Never Comes (Live) 2020-08-28 12:00:00+00:00\n",
      "Average time: 0:6:11\n",
      "Median songs: 0.0:6.0:27.0\n",
      "All track price of album: 129.00000000000028 $\n",
      "Average track price of album: 1.29 $\n",
      "Median track price of album: 1.29 $\n",
      "min track price: Enter Sandman 1.29 $\n",
      "max track price: Enter Sandman 1.29 $\n",
      "Longe song: Suicide & Redemption 0:9:57\n",
      "Short song: Helpless (Live at Rasputin Music, Berkeley, CA - Apr. 16th, 2016) 0:3:8\n",
      "\n",
      "Albom # [13] :\n",
      "\n",
      "Album name: S&M2 (Live)\n",
      "Count of songs: 100\n",
      "Primary genere: Metal\n",
      "Release date: The Day That Never Comes (Live) 2020-08-28 12:00:00+00:00\n",
      "Average time: 0:6:11\n",
      "Median songs: 0.0:6.0:27.0\n",
      "All track price of album: 129.00000000000028 $\n",
      "Average track price of album: 1.29 $\n",
      "Median track price of album: 1.29 $\n",
      "min track price: Enter Sandman 1.29 $\n",
      "max track price: Enter Sandman 1.29 $\n",
      "Longe song: Suicide & Redemption 0:9:57\n",
      "Short song: Helpless (Live at Rasputin Music, Berkeley, CA - Apr. 16th, 2016) 0:3:8\n",
      "\n",
      "Albom # [14] :\n",
      "\n",
      "Album name: S&M2 (Live)\n",
      "Count of songs: 100\n",
      "Primary genere: Metal\n",
      "Release date: The Day That Never Comes (Live) 2020-08-28 12:00:00+00:00\n",
      "Average time: 0:6:11\n",
      "Median songs: 0.0:6.0:27.0\n",
      "All track price of album: 129.00000000000028 $\n",
      "Average track price of album: 1.29 $\n",
      "Median track price of album: 1.29 $\n",
      "min track price: Enter Sandman 1.29 $\n",
      "max track price: Enter Sandman 1.29 $\n",
      "Longe song: Suicide & Redemption 0:9:57\n",
      "Short song: Helpless (Live at Rasputin Music, Berkeley, CA - Apr. 16th, 2016) 0:3:8\n",
      "\n",
      "Albom # [15] :\n",
      "\n",
      "Album name: S&M2 (Live)\n",
      "Count of songs: 100\n",
      "Primary genere: Metal\n",
      "Release date: The Day That Never Comes (Live) 2020-08-28 12:00:00+00:00\n",
      "Average time: 0:6:11\n",
      "Median songs: 0.0:6.0:27.0\n",
      "All track price of album: 129.00000000000028 $\n",
      "Average track price of album: 1.29 $\n",
      "Median track price of album: 1.29 $\n",
      "min track price: Enter Sandman 1.29 $\n",
      "max track price: Enter Sandman 1.29 $\n",
      "Longe song: Suicide & Redemption 0:9:57\n",
      "Short song: Helpless (Live at Rasputin Music, Berkeley, CA - Apr. 16th, 2016) 0:3:8\n",
      "\n"
     ]
    }
   ],
   "source": [
    "album_count = len( list(set(map(lambda x: x['collectionName'], data))));\n",
    "long_song = max(data, key=time_extractor)\n",
    "short_song = min(data, key=time_extractor)\n",
    "timeCount = sum(list(map(lambda x: x['trackTimeMillis'], data)))\n",
    "AverageTime = int(mean(list(map(lambda x: x['trackTimeMillis'], data))))\n",
    "allTrackPrice = sum(list(map(lambda x: x['trackPrice'], data)))\n",
    "averageTrackPrice = mean(list(map(lambda x: x['trackPrice'], data)))\n",
    "medianTrackPrice = median(list(map(lambda x: x['trackPrice'], data)))\n",
    "track_price = lambda x: x['trackPrice']\n",
    "first=min(data, key=track_price)\t\n",
    "second=max(data, key=track_price)\n",
    "primaryGenreName= max(list(map(lambda x: x['primaryGenreName'], data)))\n",
    "release_date_extractor = lambda x: x['releaseDate']\n",
    "date = max(data, key=release_date_extractor)\n",
    "Median_time = list(map(time_extractor, data))\n",
    "print('========================')\n",
    "print('Ну что,народ, погнали?')\n",
    "print('========================')\n",
    "for i in range( album_count ):\n",
    "    album_name = list(set(map(lambda x: x['collectionName'], data )))[i]\n",
    "    album_data = list(filter(lambda x:album_name in x['collectionName'], data ))\n",
    "    print('Albom #',[i+1],':')\n",
    "    print()\n",
    "    print( 'Album name:', max( list(map(lambda x: x['collectionName'],data ))))\n",
    "    print( 'Count of songs:', len(list(map(lambda x: x['trackName'],data ))))\n",
    "    print('Primary genere:',primaryGenreName)\n",
    "    print('Release date:', date['trackName'], date['releaseDate'])\n",
    "    print('Average time:',convert_millis(AverageTime))\n",
    "    print('Median songs:', convert_millis(median(Median_time)))\n",
    "    print('All track price of album:',allTrackPrice,'$')\n",
    "    print('Average track price of album:',averageTrackPrice,'$')\n",
    "    print('Median track price of album:',medianTrackPrice,'$')\n",
    "    print('min track price:', first['trackName'], first['trackPrice'],'$')\n",
    "    print('max track price:', second['trackName'], second['trackPrice'],'$')\n",
    "    print('Longe song:', long_song['trackName'], convert_millis(long_song['trackTimeMillis']))\n",
    "    print('Short song:', short_song['trackName'], convert_millis(short_song['trackTimeMillis']))\n",
    "    print()"
   ]
  }
 ],
 "metadata": {
  "kernelspec": {
   "display_name": "Python 3.10.7 64-bit",
   "language": "python",
   "name": "python3"
  },
  "language_info": {
   "codemirror_mode": {
    "name": "ipython",
    "version": 3
   },
   "file_extension": ".py",
   "mimetype": "text/x-python",
   "name": "python",
   "nbconvert_exporter": "python",
   "pygments_lexer": "ipython3",
   "version": "3.10.7"
  },
  "orig_nbformat": 4,
  "vscode": {
   "interpreter": {
    "hash": "c66fc46ce8a26af5cd60ff452eb045edcc95d8028d459f164b2c8e19bd82fcbf"
   }
  }
 },
 "nbformat": 4,
 "nbformat_minor": 2
}
